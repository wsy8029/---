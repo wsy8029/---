{
 "cells": [
  {
   "cell_type": "code",
   "execution_count": 1,
   "metadata": {},
   "outputs": [
    {
     "name": "stdout",
     "output_type": "stream",
     "text": [
      "Running PyMODI (v1.0.0)\n"
     ]
    }
   ],
   "source": [
    "import modi"
   ]
  },
  {
   "cell_type": "markdown",
   "metadata": {},
   "source": [
    "아래의 코드를 실행했을 때 12종의 모듈이 정상적으로 initialize되는지 확인"
   ]
  },
  {
   "cell_type": "code",
   "execution_count": 2,
   "metadata": {},
   "outputs": [
    {
     "name": "stdout",
     "output_type": "stream",
     "text": [
      "Initiating serial connection...\n",
      "Start initializing connected MODI modules\n",
      "Network (176) has been connected!\n",
      "Button (2571) has been connected!\n",
      "Led (2931) has been connected!\n",
      "Speaker (395) has been connected!\n",
      "Gyro (2403) has been connected!\n",
      "Dial (3869) has been connected!\n",
      "Ir (1732) has been connected!\n",
      "Motor (2924) has been connected!\n",
      "Display (638) has been connected!\n",
      "Env (4047) has been connected!\n",
      "Ultrasonic (922) has been connected!\n",
      "Mic (2966) has been connected!\n",
      "MODI modules are initialized!\n"
     ]
    },
    {
     "name": "stderr",
     "output_type": "stream",
     "text": [
      "Exception in thread Thread-4:\n",
      "Traceback (most recent call last):\n",
      "  File \"/Users/peter/opt/anaconda3/lib/python3.7/threading.py\", line 926, in _bootstrap_inner\n",
      "    self.run()\n",
      "  File \"/Users/peter/opt/anaconda3/lib/python3.7/site-packages/pymodi-1.0.0-py3.7.egg/modi/_exe_thrd.py\", line 28, in run\n",
      "    self.__exe_task.run(delay=0.001)\n",
      "  File \"/Users/peter/opt/anaconda3/lib/python3.7/site-packages/pymodi-1.0.0-py3.7.egg/modi/task/exe_task.py\", line 34, in run\n",
      "    json_pkt = self._conn.recv()\n",
      "  File \"/Users/peter/opt/anaconda3/lib/python3.7/site-packages/pymodi-1.0.0-py3.7.egg/modi/task/ser_task.py\", line 70, in recv\n",
      "    self.__json_buffer += self._bus.read_all()\n",
      "  File \"/Users/peter/.local/lib/python3.7/site-packages/serial/serialutil.py\", line 648, in read_all\n",
      "    return self.read(self.in_waiting)\n",
      "  File \"/Users/peter/.local/lib/python3.7/site-packages/serial/serialposix.py\", line 467, in in_waiting\n",
      "    s = fcntl.ioctl(self.fd, TIOCINQ, TIOCM_zero_str)\n",
      "OSError: [Errno 6] Device not configured\n",
      "\n"
     ]
    }
   ],
   "source": [
    "network_module = modi.MODI()"
   ]
  },
  {
   "cell_type": "code",
   "execution_count": null,
   "metadata": {},
   "outputs": [],
   "source": []
  }
 ],
 "metadata": {
  "kernelspec": {
   "display_name": "Python 3",
   "language": "python",
   "name": "python3"
  },
  "language_info": {
   "codemirror_mode": {
    "name": "ipython",
    "version": 3
   },
   "file_extension": ".py",
   "mimetype": "text/x-python",
   "name": "python",
   "nbconvert_exporter": "python",
   "pygments_lexer": "ipython3",
   "version": "3.7.6"
  }
 },
 "nbformat": 4,
 "nbformat_minor": 4
}
