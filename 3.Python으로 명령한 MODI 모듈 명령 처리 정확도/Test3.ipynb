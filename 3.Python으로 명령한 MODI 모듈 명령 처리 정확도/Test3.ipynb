{
 "cells": [
  {
   "cell_type": "code",
   "execution_count": 1,
   "metadata": {},
   "outputs": [
    {
     "name": "stdout",
     "output_type": "stream",
     "text": [
      "Running PyMODI (v1.0.0)\n"
     ]
    }
   ],
   "source": [
    "import modi\n",
    "import time"
   ]
  },
  {
   "cell_type": "code",
   "execution_count": 2,
   "metadata": {},
   "outputs": [
    {
     "name": "stdout",
     "output_type": "stream",
     "text": [
      "Initiating serial connection...\n",
      "Start initializing connected MODI modules\n",
      "Dial (3869) has been connected!\n",
      "Network (176) has been connected!\n",
      "Gyro (2403) has been connected!\n",
      "Speaker (395) has been connected!\n",
      "Ir (1732) has been connected!\n",
      "Button (2571) has been connected!\n",
      "Motor (2924) has been connected!\n",
      "Led (2931) has been connected!\n",
      "Env (4047) has been connected!\n",
      "Ultrasonic (922) has been connected!\n",
      "Display (638) has been connected!\n",
      "Mic (2966) has been connected!\n",
      "MODI modules are initialized!\n"
     ]
    }
   ],
   "source": [
    "bundle = modi.MODI()"
   ]
  },
  {
   "cell_type": "code",
   "execution_count": null,
   "metadata": {},
   "outputs": [],
   "source": [
    "# 측정 시료 5개\n",
    "gyro = bundle.gyros[0]\n",
    "button = bundle.buttons[0]\n",
    "dial = bundle.dials[0]\n",
    "ir = bundle.irs[0]\n",
    "ultrasonic = bundle.ultrasonics[0]"
   ]
  },
  {
   "cell_type": "code",
   "execution_count": 3,
   "metadata": {},
   "outputs": [],
   "source": [
    "led = bundle.leds[0]"
   ]
  },
  {
   "cell_type": "markdown",
   "metadata": {},
   "source": [
    "## 1. LED 모듈"
   ]
  },
  {
   "cell_type": "code",
   "execution_count": 5,
   "metadata": {},
   "outputs": [
    {
     "name": "stdout",
     "output_type": "stream",
     "text": [
      "Red\n",
      "Green\n",
      "Blue\n",
      "Red\n",
      "Green\n",
      "Blue\n",
      "Red\n",
      "Green\n",
      "Blue\n",
      "Red\n",
      "Green\n",
      "Blue\n",
      "Red\n",
      "Green\n",
      "Blue\n",
      "Red\n",
      "Green\n",
      "Blue\n",
      "Red\n",
      "Green\n",
      "Blue\n",
      "Red\n",
      "Green\n",
      "Blue\n",
      "Red\n",
      "Green\n",
      "Blue\n",
      "Red\n",
      "Green\n",
      "Blue\n"
     ]
    }
   ],
   "source": [
    "for i in range(10):\n",
    "    print(\"Red\")\n",
    "    led.red = 255\n",
    "    time.sleep(1)\n",
    "    led.red = 0\n",
    "    print(\"Green\")\n",
    "    led.green = 255\n",
    "    time.sleep(1)\n",
    "    led.green = 0\n",
    "    print(\"Blue\")\n",
    "    led.blue = 255\n",
    "    time.sleep(1)\n",
    "    led.blue = 0"
   ]
  },
  {
   "cell_type": "code",
   "execution_count": null,
   "metadata": {},
   "outputs": [],
   "source": [
    "start_time = time.time()\n",
    "gyro_data = gyro.acceleration_x\n",
    "end_time = time.time()\n",
    "stime = end_time - start_time\n",
    "print(f\"1. Gyro 모듈 수신 데이터(x축 가속도): {gyro.acceleration_x:<10}\")\n",
    "print(f\"   Gyro 모듈 응답 속도: {stime:.6f}초 ({stime*1000:.5f}ms)\")\n",
    "\n",
    "start_time = time.time()\n",
    "button_data = button.clicked\n",
    "end_time = time.time()\n",
    "stime = end_time - start_time\n",
    "print(f\"2. Button 모듈 수신 데이터(버튼 클릭 유무): {button_data}\")\n",
    "print(f\"   Button 모듈 응답 속도: {stime:.6f}초 ({stime*1000:.5f}ms)\")\n",
    "\n",
    "start_time = time.time()\n",
    "dial_data = dial.degree\n",
    "end_time = time.time()\n",
    "stime = end_time - start_time\n",
    "print(f\"3. Dial 모듈 수신 데이터(다이얼 각도): {dial_data}\")\n",
    "print(f\"   Dial 모듈 응답 속도: {stime:.6f}초 ({stime*1000:.5f}ms)\")\n",
    "\n",
    "start_time = time.time()\n",
    "ir_data = ir.proximity\n",
    "end_time = time.time()\n",
    "stime = end_time - start_time\n",
    "print(f\"4. Ir 모듈 수신 데이터(적외선 거리): {ir_data}\")\n",
    "print(f\"   Ir 모듈 응답 속도: {stime:.6f}초 ({stime*1000:.5f}ms)\")\n",
    "\n",
    "start_time = time.time()\n",
    "ultrasonic_data = ultrasonic.distance\n",
    "end_time = time.time()\n",
    "stime = end_time - start_time\n",
    "print(f\"5. Ultrasonic 모듈 수신 데이터(초음파 거리): {ultrasonic_data}\")\n",
    "print(f\"   Ultrasonic 모듈 응답 속도: {stime:.6f}초 ({stime*1000:.5f}ms)\")"
   ]
  }
 ],
 "metadata": {
  "kernelspec": {
   "display_name": "Python 3",
   "language": "python",
   "name": "python3"
  },
  "language_info": {
   "codemirror_mode": {
    "name": "ipython",
    "version": 3
   },
   "file_extension": ".py",
   "mimetype": "text/x-python",
   "name": "python",
   "nbconvert_exporter": "python",
   "pygments_lexer": "ipython3",
   "version": "3.7.6"
  }
 },
 "nbformat": 4,
 "nbformat_minor": 4
}
