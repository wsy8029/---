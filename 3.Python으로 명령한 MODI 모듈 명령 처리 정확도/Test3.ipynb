{
 "cells": [
  {
   "cell_type": "code",
   "execution_count": 1,
   "metadata": {},
   "outputs": [
    {
     "name": "stdout",
     "output_type": "stream",
     "text": [
      "Running PyMODI (v1.0.0)\n"
     ]
    }
   ],
   "source": [
    "import modi\n",
    "import time\n",
    "from IPython.display import clear_output as clear"
   ]
  },
  {
   "cell_type": "code",
   "execution_count": 2,
   "metadata": {},
   "outputs": [
    {
     "name": "stdout",
     "output_type": "stream",
     "text": [
      "Initiating serial connection...\n",
      "Start initializing connected MODI modules\n",
      "Network (176) has been connected!\n",
      "Gyro (2403) has been connected!\n",
      "Speaker (395) has been connected!\n",
      "Ir (1732) has been connected!\n",
      "Button (2571) has been connected!\n",
      "Motor (2924) has been connected!\n",
      "Led (2931) has been connected!\n",
      "Env (4047) has been connected!\n",
      "Ultrasonic (922) has been connected!\n",
      "Dial (3869) has been connected!\n",
      "Display (638) has been connected!\n",
      "Mic (2966) has been connected!\n",
      "MODI modules are initialized!\n"
     ]
    }
   ],
   "source": [
    "bundle = modi.MODI()"
   ]
  },
  {
   "cell_type": "code",
   "execution_count": 4,
   "metadata": {},
   "outputs": [],
   "source": [
    "#측정 시료 5개\n",
    "led = bundle.leds[0]\n",
    "button = bundle.buttons[0]\n",
    "dial = bundle.dials[0]\n",
    "motor = bundle.motors[0]\n",
    "display = bundle.displays[0]"
   ]
  },
  {
   "cell_type": "markdown",
   "metadata": {},
   "source": [
    "## 1. LED 모듈"
   ]
  },
  {
   "cell_type": "code",
   "execution_count": 10,
   "metadata": {},
   "outputs": [
    {
     "name": "stdout",
     "output_type": "stream",
     "text": [
      "Blue\n"
     ]
    }
   ],
   "source": [
    "for i in range(10):\n",
    "    clear(wait=True)\n",
    "    print(\"Red\")\n",
    "    time.sleep(0.25)\n",
    "    led.red = 255\n",
    "    time.sleep(0.5)\n",
    "    clear(wait=True)\n",
    "    print(\"Green\")\n",
    "    time.sleep(0.25)\n",
    "    led.green = 255\n",
    "    time.sleep(0.5)\n",
    "    clear(wait=True)\n",
    "    print(\"Blue\")\n",
    "    time.sleep(0.25)\n",
    "    led.blue = 255\n",
    "    time.sleep(0.5)"
   ]
  },
  {
   "cell_type": "markdown",
   "metadata": {},
   "source": [
    "## 2. Button 모듈"
   ]
  },
  {
   "cell_type": "code",
   "execution_count": 14,
   "metadata": {},
   "outputs": [
    {
     "name": "stdout",
     "output_type": "stream",
     "text": [
      "\n"
     ]
    }
   ],
   "source": [
    "for i in range(2000):\n",
    "    if button.clicked:\n",
    "        print(\"clicked!\")\n",
    "    else:\n",
    "        print(\"\")\n",
    "    time.sleep(0.005)\n",
    "    clear(wait=True)"
   ]
  },
  {
   "cell_type": "markdown",
   "metadata": {},
   "source": [
    "## 3. Dial 모듈"
   ]
  },
  {
   "cell_type": "code",
   "execution_count": 13,
   "metadata": {},
   "outputs": [
    {
     "name": "stdout",
     "output_type": "stream",
     "text": [
      "High\n"
     ]
    }
   ],
   "source": [
    "for i in range(2000):\n",
    "#     print(dial.degree)\n",
    "    if dial.degree < 50:\n",
    "        print(\"Low\")\n",
    "    else:\n",
    "        print(\"High\")\n",
    "    time.sleep(0.005)\n",
    "    clear(wait=True)"
   ]
  },
  {
   "cell_type": "markdown",
   "metadata": {},
   "source": [
    "## 4. Motor 모듈"
   ]
  },
  {
   "cell_type": "code",
   "execution_count": 15,
   "metadata": {},
   "outputs": [],
   "source": [
    "for i in range(10):\n",
    "    print(\"Speed = 40,40\")\n",
    "    time.sleep(0.2)\n",
    "    motor.speed = 40,40\n",
    "    time.sleep(1)\n",
    "    print(\"Speed = 0,0\")\n",
    "    time.sleep(0.2)\n",
    "    motor.speed = 0,0\n",
    "    time.sleep(1)\n",
    "    clear()"
   ]
  },
  {
   "cell_type": "markdown",
   "metadata": {},
   "source": [
    "## 5. Display 모듈"
   ]
  },
  {
   "cell_type": "code",
   "execution_count": 16,
   "metadata": {},
   "outputs": [
    {
     "name": "stdout",
     "output_type": "stream",
     "text": [
      "30\n"
     ]
    }
   ],
   "source": [
    "for i in range(30):\n",
    "    txt = str(i+1)\n",
    "    print(txt)\n",
    "    time.sleep(0.25)\n",
    "    display.text = txt\n",
    "    time.sleep(0.2)\n",
    "    clear(wait=True)"
   ]
  }
 ],
 "metadata": {
  "kernelspec": {
   "display_name": "Python 3",
   "language": "python",
   "name": "python3"
  },
  "language_info": {
   "codemirror_mode": {
    "name": "ipython",
    "version": 3
   },
   "file_extension": ".py",
   "mimetype": "text/x-python",
   "name": "python",
   "nbconvert_exporter": "python",
   "pygments_lexer": "ipython3",
   "version": "3.7.6"
  }
 },
 "nbformat": 4,
 "nbformat_minor": 4
}
