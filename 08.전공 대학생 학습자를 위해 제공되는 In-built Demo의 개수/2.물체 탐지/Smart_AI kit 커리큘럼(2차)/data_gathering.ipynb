{
 "cells": [
  {
   "cell_type": "markdown",
   "metadata": {},
   "source": [
    "● 라이브러리 및 Modi 모듈 로드"
   ]
  },
  {
   "cell_type": "code",
   "execution_count": 1,
   "metadata": {
    "scrolled": true
   },
   "outputs": [
    {
     "name": "stdout",
     "output_type": "stream",
     "text": [
      "Running PyMODI (v1.0.1)\n",
      "Initiating can connection...\n",
      "Start initializing connected MODI modules\n",
      "Network (2557) has been connected!\n",
      "Button (35) has been connected!\n",
      "Motor (2606) has been connected!\n",
      "MODI modules are initialized!\n",
      "loading finish\n"
     ]
    }
   ],
   "source": [
    "from ai_camera import AICamera\n",
    "import os\n",
    "import modi\n",
    "import time\n",
    "\n",
    "bundle = modi.MODI()\n",
    "print('loading finish')"
   ]
  },
  {
   "cell_type": "markdown",
   "metadata": {},
   "source": [
    "● 데이터 수집 관련 함수 "
   ]
  },
  {
   "cell_type": "code",
   "execution_count": 3,
   "metadata": {},
   "outputs": [],
   "source": [
    "# gathering image data to each labeled folder\n",
    "def gathering(path,cam,btn):\n",
    "    # 기존에 존재하는 파일을 파악하여 기록할 인덱스 설정\n",
    "    try: # 설정한 라벨에 기존의 파일이 있으면 기존 파일 이후부터 자료 수집 \n",
    "        flist = os.listdir(path)\n",
    "        paths = [os.path.join(path, basename) for basename in flist]\n",
    "        latest = max(paths, key=os.path.getctime) # latest file\n",
    "        latest = os.path.basename(latest)\n",
    "        latest = int(os.path.splitext(latest)[0]) # latest file idx num\n",
    "        idx = latest +1\n",
    "        \n",
    "    except: # 라벨 폴더가 비어 있으면 1부터 시작 \n",
    "        idx = 1\n",
    "    print('확인')\n",
    "    while cam.is_opened():\n",
    "        #print('시작')\n",
    "        frame = cam.read()\n",
    "        cam.show(frame) # streaming camera\n",
    "\n",
    "        \n",
    "        # 버튼 클릭하면 사진 저장 \n",
    "        if btn.clicked:\n",
    "            imgpath = path + '/' + str(idx) + '.jpg'\n",
    "            print(imgpath)\n",
    "            cam.imwrite(imgpath,frame)\n",
    "            print('image saved')\n",
    "            idx += 1\n",
    "            time.sleep(0.1)\n",
    "        time.sleep(0.1)\n",
    "            \n",
    "\n",
    "        \n",
    "#check and make directory labeled\n",
    "def check_dir(path,label):\n",
    "    path = os.path.join(path,label)\n",
    "    print(\"Image Data Path : \" + path)\n",
    "    if os.path.isdir(path):\n",
    "        pass\n",
    "    else:\n",
    "        os.mkdir(path)\n",
    "    return path"
   ]
  },
  {
   "cell_type": "markdown",
   "metadata": {},
   "source": [
    "● 분류하고 싶은 라벨의 이름을 설정하고 데이터 수집 실행"
   ]
  },
  {
   "cell_type": "code",
   "execution_count": null,
   "metadata": {
    "scrolled": false
   },
   "outputs": [
    {
     "data": {
      "text/plain": [
       "'Window'"
      ]
     },
     "metadata": {},
     "output_type": "display_data"
    },
    {
     "data": {
      "text/plain": [
       "'Frame Rate'"
      ]
     },
     "metadata": {},
     "output_type": "display_data"
    },
    {
     "name": "stdout",
     "output_type": "stream",
     "text": [
      "True\n"
     ]
    }
   ],
   "source": [
    "cam = AICamera()\n",
    "cam.set_window()\n",
    "print(cam.is_opened())\n",
    "btn = bundle.buttons[0]\n",
    "while True:\n",
    "    path = '../data/'\n",
    "    label = input('type label name : ')\n",
    "    path = check_dir(path,label)\n",
    "    gathering(path,cam,btn)"
   ]
  }
 ],
 "metadata": {
  "kernelspec": {
   "display_name": "Python 3",
   "language": "python",
   "name": "python3"
  },
  "language_info": {
   "codemirror_mode": {
    "name": "ipython",
    "version": 3
   },
   "file_extension": ".py",
   "mimetype": "text/x-python",
   "name": "python",
   "nbconvert_exporter": "python",
   "pygments_lexer": "ipython3",
   "version": "3.7.3"
  }
 },
 "nbformat": 4,
 "nbformat_minor": 4
}
