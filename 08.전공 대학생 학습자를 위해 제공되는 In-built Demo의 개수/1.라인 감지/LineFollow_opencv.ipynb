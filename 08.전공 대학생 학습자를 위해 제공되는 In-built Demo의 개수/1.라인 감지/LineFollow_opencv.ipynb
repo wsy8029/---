{
 "cells": [
  {
   "cell_type": "markdown",
   "metadata": {},
   "source": [
    "라이브러리 실행"
   ]
  },
  {
   "cell_type": "code",
   "execution_count": 1,
   "metadata": {
    "scrolled": false
   },
   "outputs": [
    {
     "name": "stdout",
     "output_type": "stream",
     "text": [
      "Running PyMODI (v0.9.2)\n",
      "Cannot validate running PyMODI(v0.9.2), please check your internet connection\n",
      "Run Can Task.\n",
      "Start initializing connected MODI modules\n",
      "Motor (2606) has been connected!\n",
      "Network (2557) has been connected!\n",
      "MODI modules are initialized!\n",
      "bundle finish\n"
     ]
    },
    {
     "name": "stderr",
     "output_type": "stream",
     "text": [
      "Process ConnProc-1:\n",
      "Traceback (most recent call last):\n",
      "  File \"/usr/lib/python3.7/multiprocessing/process.py\", line 297, in _bootstrap\n",
      "    self.run()\n",
      "  File \"/home/pi/.local/lib/python3.7/site-packages/pymodi-0.9.2-py3.7.egg/modi/_conn_proc.py\", line 63, in run\n",
      "    recv_thread.join()\n",
      "  File \"/usr/lib/python3.7/threading.py\", line 1032, in join\n",
      "    self._wait_for_tstate_lock()\n",
      "  File \"/usr/lib/python3.7/threading.py\", line 1048, in _wait_for_tstate_lock\n",
      "    elif lock.acquire(block, timeout):\n",
      "KeyboardInterrupt\n"
     ]
    }
   ],
   "source": [
    "import cv2\n",
    "import numpy as np\n",
    "import matplotlib.pyplot as plt\n",
    "import modi\n",
    "import time\n",
    "\n",
    "from ai_camera import AICamera\n",
    "# import firebase_admin\n",
    "# from firebase_admin import credentials\n",
    "# from firebase_admin import firestore\n",
    "\n",
    "bundle = modi.MODI()\n",
    "\n",
    "print('bundle finish')\n"
   ]
  },
  {
   "cell_type": "markdown",
   "metadata": {},
   "source": [
    "유틸 함수"
   ]
  },
  {
   "cell_type": "code",
   "execution_count": 2,
   "metadata": {},
   "outputs": [],
   "source": [
    "# 선 좌표 처리함수\n",
    "def make_coordinates(image, line_parameters):\n",
    "    slope, intercept = line_parameters\n",
    "    y1 = image.shape[0]\n",
    "    y2 = int(y1*(2/5))\n",
    "    \n",
    "    x1 = int((y1 - intercept)/slope)\n",
    "    x2 = int((y2 - intercept)/slope)\n",
    "    return np.array([x1, y1, x2, y2])\n",
    "\n",
    "# 선 기울기 처리함수\n",
    "def average_slope_intercept(image, lines):\n",
    "    left_fit = []\n",
    "    right_fit = []\n",
    "    for line in lines:\n",
    "        #print('line11',line)\n",
    "        x1, y1, x2, y2 = line.reshape(4)\n",
    "        parameters = np.polyfit((x1, x2), (y1, y2), 1)\n",
    "        #print('parameters', parameters)\n",
    "        slope = parameters[0]\n",
    "        intercept = parameters[1]\n",
    "        if slope < -0.5:\n",
    "            left_fit.append((slope, intercept))\n",
    "        elif 0.5 < slope:\n",
    "            right_fit.append((slope, intercept))\n",
    "    if (len(left_fit) != 0):\n",
    "        left_fit_average = np.average(left_fit, axis=0)\n",
    "    else:\n",
    "        left_fit_average = ((-5, 240))\n",
    "    if (len(right_fit) != 0):\n",
    "        right_fit_average = np.average(right_fit, axis=0)\n",
    "    else:\n",
    "        right_fit_average = ((5, -1360))\n",
    "    left_line = make_coordinates(image, left_fit_average)\n",
    "    \n",
    "    rigth_line = make_coordinates(image, right_fit_average)\n",
    "    #print('right_line', rigth_line)\n",
    "    return np.array([left_line, rigth_line])\n",
    "\n",
    "# Canny 이미지 처리함수\n",
    "def canny(image):\n",
    "    gray = cv2.cvtColor(image, cv2.COLOR_RGB2GRAY)\n",
    "    blur = cv2.GaussianBlur(gray, (5, 5), 0)\n",
    "    canny = cv2.Canny(blur, 50, 150)\n",
    "    return canny\n",
    "\n",
    "# 선 이미지 출력 함수\n",
    "def t_display_lines(image, lines):\n",
    "    line_image = np.zeros_like(image)\n",
    "    if lines is not None:\n",
    "        for line in lines:\n",
    "            x1, y1, x2, y2 = line.reshape(4)\n",
    "            cv2.line(line_image, (x1, y1), (x2, y2), (255, 0, 0), 10)\n",
    "    return line_image\n",
    "\n",
    "# Roi 설정 함수 (카메라 화각이 좁은 관계로 화면 전체를 잡은 상태)\n",
    "def region_of_interest(image):\n",
    "    height = image.shape[0]\n",
    "    polygons = np.array([[( 0 , height), (320, height),(320,0) , (0, 0)]])\n",
    "    mask = np.zeros_like(image)\n",
    "    cv2.fillPoly(mask, polygons, 255)\n",
    "    masked_image = cv2.bitwise_and(image, mask)\n",
    "    return masked_image\n",
    "\n",
    "# 중심 축과 검출된 선들의 중심축 좌표 출력 함수 \n",
    "def find_vanishing(image, lines):\n",
    "    \n",
    "    x11, y11, x12, y12 = lines[0]\n",
    "    cv2.line(image, (x11, y11), (x12, y12), (255, 255, 0), 10)\n",
    "    x21, y21, x22, y22 = lines[1]\n",
    "    cv2.line(image, (x21, y21), (x22, y22), (0, 255, 255), 3)\n",
    "    m1 = (y12 - y11) / (x12 - x11)\n",
    "    m2 = ((y22 - y21) / (x22 - x21)) -0.001\n",
    "    cx = int((x11 * m1 - y11 - x21 * m2 + y21) / (m1 - m2))\n",
    "    center = int(image.shape[1]/2)\n",
    "\n",
    "    \n",
    "    cv2.line(image, (cx, 0), (cx, image.shape[0]), (0, 0, 255), 3) \n",
    "    cv2.putText(image, str(cx), (cx+10, 100), cv2.FONT_HERSHEY_PLAIN, 2, (0, 0, 255), 2)\n",
    "    cv2.line(image, (center, 0), (center, image.shape[0]), (0, 255, 0), 3)\n",
    "    cv2.putText(image, str(center), (center+10, 100), cv2.FONT_HERSHEY_PLAIN, 2, (0, 255, 0), 2)\n",
    "\n",
    "    return image, cx, center\n",
    "\n",
    "# 차량 이동 함수 \n",
    "def find_way(vanishing, center):\n",
    "    diff = vanishing - center\n",
    "    #print(diff)\n",
    "    if diff < -20:\n",
    "        left()\n",
    "    elif diff > 20:\n",
    "        right()\n",
    "    else:\n",
    "        forward()\n",
    "\n",
    "# Initialize MazeRunner, gets MODI class\n",
    "# Add needed modules\n",
    "def init_MR(bundle):\n",
    "    print('modules list\\n', bundle.modules)\n",
    "    motor = bundle.motors[0]\n",
    "    return len(bundle.modules), motor\n",
    "\n",
    "# Checks module connection status by comparing module numbers.\n",
    "def is_connected(curr_num):\n",
    "    if curr_num != module_num:\n",
    "        print('\\n--------interrupt!!!---------')\n",
    "        print('Some modules disconnected!!')\n",
    "        return False\n",
    "    else:\n",
    "        return True\n",
    "\n",
    "    \n",
    "# MODI 모터 제어 함수 \n",
    "def forward(delay=10, speed=100):\n",
    "    motor.speed= 0, 0\n",
    "    time.sleep(0.001)\n",
    "    # if button.clicked() == True:\n",
    "    #print('-----forward!!-----')\n",
    "    for _ in range(delay):\n",
    "    # mazeprint(ir.distance())\n",
    "        time.sleep(0.001)\n",
    "        motor.speed= speed, -speed\n",
    "        time.sleep(0.001)\n",
    "    motor.speed =0, 0\n",
    "\n",
    "# MODI turns left, gets delay arg.\n",
    "def left(delay=2):\n",
    "    motor.speed= 0,0\n",
    "    time.sleep(0.001)\n",
    "    #print('-----left!!-----')\n",
    "    for _ in range(delay):\n",
    "        time.sleep(0.001)\n",
    "        motor.speed= 100, 100\n",
    "        time.sleep(0.001)\n",
    "    motor.speed =0, 0\n",
    "\n",
    "# MODI turns right, gets delay arg.\n",
    "def right(delay=2):\n",
    "    motor.speed = 0, 0\n",
    "    time.sleep(0.001)\n",
    "    #print('-----right!!-----')\n",
    "    for _ in range(delay):\n",
    "        time.sleep(0.001)\n",
    "        motor.speed= -100, -100\n",
    "        time.sleep(0.001)\n",
    "    motor.speed = 0, 0\n",
    "    \n",
    "    \n"
   ]
  },
  {
   "cell_type": "markdown",
   "metadata": {},
   "source": [
    "메인 함수"
   ]
  },
  {
   "cell_type": "code",
   "execution_count": null,
   "metadata": {
    "scrolled": true
   },
   "outputs": [
    {
     "name": "stdout",
     "output_type": "stream",
     "text": [
      "modules list\n",
      " [<modi.module.output_module.motor.Motor object at 0xa0099bd0>]\n",
      "MODI Connected!\n",
      "motor 연결 <modi.module.output_module.motor.Motor object at 0xa0099bd0>\n",
      "카메라 연결 True\n"
     ]
    },
    {
     "data": {
      "image/jpeg": "[encoded data removed]",
      "text/plain": [
       "<IPython.core.display.Image object>"
      ]
     },
     "metadata": {},
     "output_type": "display_data"
    },
    {
     "data": {
      "text/html": [
       "6 FPS"
      ],
      "text/plain": [
       "<IPython.core.display.HTML object>"
      ]
     },
     "metadata": {},
     "output_type": "display_data"
    },
    {
     "name": "stdout",
     "output_type": "stream",
     "text": [
      "set\n"
     ]
    },
    {
     "name": "stderr",
     "output_type": "stream",
     "text": [
      "/home/pi/.local/lib/python3.7/site-packages/ipykernel_launcher.py:18: RankWarning: Polyfit may be poorly conditioned\n",
      "/home/pi/.local/lib/python3.7/site-packages/ipykernel_launcher.py:18: RankWarning: Polyfit may be poorly conditioned\n",
      "/home/pi/.local/lib/python3.7/site-packages/ipykernel_launcher.py:18: RankWarning: Polyfit may be poorly conditioned\n",
      "/home/pi/.local/lib/python3.7/site-packages/ipykernel_launcher.py:18: RankWarning: Polyfit may be poorly conditioned\n",
      "/home/pi/.local/lib/python3.7/site-packages/ipykernel_launcher.py:18: RankWarning: Polyfit may be poorly conditioned\n",
      "/home/pi/.local/lib/python3.7/site-packages/ipykernel_launcher.py:18: RankWarning: Polyfit may be poorly conditioned\n",
      "/home/pi/.local/lib/python3.7/site-packages/ipykernel_launcher.py:18: RankWarning: Polyfit may be poorly conditioned\n",
      "/home/pi/.local/lib/python3.7/site-packages/ipykernel_launcher.py:18: RankWarning: Polyfit may be poorly conditioned\n"
     ]
    }
   ],
   "source": [
    "if __name__==\"__main__\":\n",
    "    \n",
    "    time.sleep(1)\n",
    "    module_num, motor = init_MR(bundle)\n",
    "    time.sleep(1)\n",
    "    print('MODI Connected!')\n",
    "    print('motor 연결',motor)\n",
    "\n",
    "  # Main\n",
    "    cap = AICamera()\n",
    "    print('카메라 연결',cap.is_opened())\n",
    " \n",
    "    cap.set_window()\n",
    "    print('set')\n",
    "    \n",
    "    lower_black = np.array([0, 0, 0])\n",
    "    upper_black = np.array([20, 20, 20])\n",
    "    \n",
    "    #while(cap.is_opened()):\n",
    "    for n in range(500):\n",
    "        time.sleep(0.01)\n",
    "        frame = cap.read()\n",
    "        frame = cv2.flip(frame,1)\n",
    "        \n",
    "\n",
    "        canny_image = canny(frame)\n",
    "        cropped_image = region_of_interest(canny_image)\n",
    "        \n",
    "        # 선분 검출 함수         \n",
    "        lines = cv2.HoughLinesP(cropped_image, 1 , np.pi/180, 100, np.array([]), minLineLength=10, maxLineGap=1)      \n",
    "\n",
    "        if str(type(lines)) == \"<class 'NoneType'>\":\n",
    "            lines = [[[0, 0 ,0 ,0]]]\n",
    "        elif len(lines) < 2:\n",
    "            continue\n",
    "        \n",
    "        # 선분이 2개 검출될때 실행 \n",
    "        if len(lines) >= 2 :\n",
    "            averaged_lines = average_slope_intercept(frame, lines)\n",
    "            find_vanishing(frame, averaged_lines)\n",
    "            line_image = t_display_lines(frame, averaged_lines)\n",
    "            vanishing_line, vanishing, center = find_vanishing(line_image, averaged_lines)\n",
    "            combo_image = cv2.addWeighted(frame, 0.8, vanishing_line, 1, 1)\n",
    "            find_way(vanishing, center)\n",
    "        \n",
    "        cap.show(frame)\n",
    "            \n",
    "        if cv2.waitKey(1) & 0xFF == ord('q'):\n",
    "            break\n",
    "\n",
    "    print('finish')\n",
    "    cv2.destroyAllWindows()"
   ]
  },
  {
   "cell_type": "code",
   "execution_count": null,
   "metadata": {},
   "outputs": [],
   "source": []
  },
  {
   "cell_type": "code",
   "execution_count": null,
   "metadata": {},
   "outputs": [],
   "source": []
  }
 ],
 "metadata": {
  "kernelspec": {
   "display_name": "Python 3",
   "language": "python",
   "name": "python3"
  },
  "language_info": {
   "codemirror_mode": {
    "name": "ipython",
    "version": 3
   },
   "file_extension": ".py",
   "mimetype": "text/x-python",
   "name": "python",
   "nbconvert_exporter": "python",
   "pygments_lexer": "ipython3",
   "version": "3.7.6"
  }
 },
 "nbformat": 4,
 "nbformat_minor": 4
}
