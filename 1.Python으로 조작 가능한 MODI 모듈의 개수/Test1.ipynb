{
 "cells": [
  {
   "cell_type": "code",
   "execution_count": 1,
   "metadata": {},
   "outputs": [
    {
     "name": "stdout",
     "output_type": "stream",
     "text": [
      "Running PyMODI (v1.0.0)\n"
     ]
    }
   ],
   "source": [
    "import modi"
   ]
  },
  {
   "cell_type": "markdown",
   "metadata": {},
   "source": [
    "아래의 코드를 실행했을 때 12종의 모듈이 정상적으로 initialize되는지 확인"
   ]
  },
  {
   "cell_type": "code",
   "execution_count": 2,
   "metadata": {},
   "outputs": [
    {
     "name": "stdout",
     "output_type": "stream",
     "text": [
      "Initiating serial connection...\n",
      "Start initializing connected MODI modules\n",
      "Network (176) has been connected!\n",
      "Button (2571) has been connected!\n",
      "Led (2931) has been connected!\n",
      "Speaker (395) has been connected!\n",
      "Gyro (2403) has been connected!\n",
      "Dial (3869) has been connected!\n",
      "Ir (1732) has been connected!\n",
      "Motor (2924) has been connected!\n",
      "Display (638) has been connected!\n",
      "Env (4047) has been connected!\n",
      "Ultrasonic (922) has been connected!\n",
      "Mic (2966) has been connected!\n",
      "MODI modules are initialized!\n"
     ]
    }
   ],
   "source": [
    "network_module = modi.MODI()"
   ]
  },
  {
   "cell_type": "code",
   "execution_count": null,
   "metadata": {},
   "outputs": [],
   "source": []
  }
 ],
 "metadata": {
  "kernelspec": {
   "display_name": "Python 3",
   "language": "python",
   "name": "python3"
  },
  "language_info": {
   "codemirror_mode": {
    "name": "ipython",
    "version": 3
   },
   "file_extension": ".py",
   "mimetype": "text/x-python",
   "name": "python",
   "nbconvert_exporter": "python",
   "pygments_lexer": "ipython3",
   "version": "3.7.6"
  }
 },
 "nbformat": 4,
 "nbformat_minor": 4
}
