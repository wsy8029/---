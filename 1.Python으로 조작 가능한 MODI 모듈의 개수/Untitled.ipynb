{
 "cells": [
  {
   "cell_type": "code",
   "execution_count": 1,
   "metadata": {},
   "outputs": [
    {
     "name": "stdout",
     "output_type": "stream",
     "text": [
      "Running PyMODI (v1.0.0)\n"
     ]
    }
   ],
   "source": [
    "import modi"
   ]
  },
  {
   "cell_type": "code",
   "execution_count": 2,
   "metadata": {},
   "outputs": [
    {
     "name": "stdout",
     "output_type": "stream",
     "text": [
      "Initiating serial connection...\n",
      "Start initializing connected MODI modules\n",
      "Network (176) has been connected!\n",
      "Gyro (2403) has been connected!\n",
      "Gyro (2403) is not up to date. Please update the module by calling modi.update_module_firmware\n",
      "Button (2571) has been connected!\n",
      "Led (2931) has been connected!\n",
      "Led (2931) is not up to date. Please update the module by calling modi.update_module_firmware\n",
      "MODI modules are initialized!\n",
      "button (2403) has been disconnected!!\n",
      "led (2403) has been disconnected!!\n"
     ]
    }
   ],
   "source": [
    "network_module = modi.MODI()"
   ]
  },
  {
   "cell_type": "code",
   "execution_count": null,
   "metadata": {},
   "outputs": [],
   "source": []
  }
 ],
 "metadata": {
  "kernelspec": {
   "display_name": "Python 3",
   "language": "python",
   "name": "python3"
  },
  "language_info": {
   "codemirror_mode": {
    "name": "ipython",
    "version": 3
   },
   "file_extension": ".py",
   "mimetype": "text/x-python",
   "name": "python",
   "nbconvert_exporter": "python",
   "pygments_lexer": "ipython3",
   "version": "3.7.6"
  }
 },
 "nbformat": 4,
 "nbformat_minor": 4
}
