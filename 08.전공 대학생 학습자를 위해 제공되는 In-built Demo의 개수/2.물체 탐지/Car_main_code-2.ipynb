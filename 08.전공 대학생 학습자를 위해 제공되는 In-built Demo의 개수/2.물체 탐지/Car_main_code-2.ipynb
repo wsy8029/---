{
 "cells": [
  {
   "cell_type": "markdown",
   "metadata": {},
   "source": [
    "● 라이브러리 불러오기 및 모디 모듈 로드"
   ]
  },
  {
   "cell_type": "code",
   "execution_count": 1,
   "metadata": {
    "scrolled": true
   },
   "outputs": [
    {
     "name": "stdout",
     "output_type": "stream",
     "text": [
      "Running PyMODI (v1.0.1)\n",
      "Initiating can connection...\n",
      "Start initializing connected MODI modules\n",
      "Network (2557) has been connected!\n",
      "Button (35) has been connected!\n",
      "Motor (2606) has been connected!\n",
      "MODI modules are initialized!\n"
     ]
    }
   ],
   "source": [
    "import cv2\n",
    "import tensorflow.keras\n",
    "from PIL import Image, ImageOps\n",
    "import numpy as np\n",
    "import modi\n",
    "from IPython.display import clear_output, display\n",
    "import time\n",
    "from ai_camera import AICamera\n",
    "\n",
    "bundle = modi.MODI()\n",
    "mot = bundle.motors[0]\n",
    "btn = bundle.buttons[0]"
   ]
  },
  {
   "cell_type": "markdown",
   "metadata": {},
   "source": [
    "● Class 종류 정의 \n",
    " - 분류하고자 하는 클레스를 이곳에서 정의합니다.  (ex: 초록불, 빨간불)"
   ]
  },
  {
   "cell_type": "code",
   "execution_count": null,
   "metadata": {},
   "outputs": [],
   "source": [
    "classes = ['traffic_green','traffic_red']"
   ]
  },
  {
   "cell_type": "markdown",
   "metadata": {},
   "source": [
    "● 학습한 모델 불러오기 및 구성\n",
    " - 이곳에서 기존에 학습한 모델을 load 하여 모델을 시작합니다. "
   ]
  },
  {
   "cell_type": "code",
   "execution_count": null,
   "metadata": {},
   "outputs": [],
   "source": [
    "model = tensorflow.keras.models.load_model('/home/pi/workspace/ai-contents-autonomous-car/model/model1.h5')"
   ]
  },
  {
   "cell_type": "markdown",
   "metadata": {},
   "source": [
    "● 입력할 데이터 형태를 정의합니다.\n",
    " - 예제에서는 이미지의 형태가 입력 데이터 형태가 됩니다. (ex : 32 x 24 pixel) "
   ]
  },
  {
   "cell_type": "code",
   "execution_count": null,
   "metadata": {},
   "outputs": [],
   "source": [
    "width = 32\n",
    "height = 24\n",
    "dim = (width, height)\n",
    "\n",
    "data = np.ndarray(shape=(1, height, width, 3), dtype=np.float32) # 데이터를 특정 형태의 numpy array type으로 만듭니다."
   ]
  },
  {
   "cell_type": "markdown",
   "metadata": {},
   "source": [
    "● 카메라 모듈 불러우기\n",
    " - 사용될 카메라 모듈을 불러옵니다. "
   ]
  },
  {
   "cell_type": "code",
   "execution_count": null,
   "metadata": {},
   "outputs": [],
   "source": [
    "cam = AICamera()\n",
    "cam.set_window()\n",
    "\n",
    "print('ready')\n",
    "print('cam',cam.is_opened())"
   ]
  },
  {
   "cell_type": "markdown",
   "metadata": {},
   "source": [
    "● 메인 반복 함수 활성화\n",
    " - 카메라 모듈이 작동하는 동안 함수가 유지되는 함수입니다. "
   ]
  },
  {
   "cell_type": "code",
   "execution_count": 4,
   "metadata": {
    "collapsed": true
   },
   "outputs": [
    {
     "data": {
      "image/jpeg": "[encoded data removed]",
      "text/plain": [
       "<IPython.core.display.Image object>"
      ]
     },
     "metadata": {},
     "output_type": "display_data"
    },
    {
     "data": {
      "text/html": [
       "18 FPS"
      ],
      "text/plain": [
       "<IPython.core.display.HTML object>"
      ]
     },
     "metadata": {},
     "output_type": "display_data"
    },
    {
     "name": "stdout",
     "output_type": "stream",
     "text": [
      "ready\n",
      "cam True\n",
      "button (2557) has been disconnected!!fic_green\n",
      "button (2606) has been disconnected!!\n",
      "button (35) has been reconnected!!\n",
      "button (2557) has been disconnected!!\n",
      "motor (0) has been disconnected!!\n",
      "motor (2606) has been reconnected!!\n",
      "button (35) has been reconnected!!\n",
      "button (35) has been reconnected!!\n",
      "button (35) has been reconnected!!\n",
      " (2557) has been disconnected!!\n",
      "button (35) has been reconnected!!\n",
      "button (2557) has been disconnected!!\n",
      "button (35) has been reconnected!!\n",
      "button (2557) has been disconnected!!\n",
      "button (35) has been reconnected!!\n",
      "button (2557) has been disconnected!!\n",
      "button (35) has been reconnected!!\n",
      "button (35) has been reconnected!!\n",
      "button (35) has been reconnected!!\n",
      "button (2606) has been disconnected!!\n",
      " (2606) has been disconnected!!\n",
      "button (35) has been reconnected!!\n",
      "button (2557) has been disconnected!!\n",
      "button (35) has been reconnected!!\n",
      "button (2557) has been disconnected!!\n",
      "button (35) has been reconnected!!\n",
      " (2557) has been disconnected!!\n",
      "button (2606) has been disconnected!!\n",
      "button (35) has been reconnected!!\n",
      "button (35) has been reconnected!!\n",
      "button (2557) has been disconnected!!\n",
      "motor (2557) has been disconnected!!\n",
      "motor (2606) has been reconnected!!\n",
      " (2606) has been disconnected!!\n",
      "button (35) has been reconnected!!\n",
      "button (35) has been reconnected!!\n",
      "button (35) has been reconnected!!\n",
      "button (0) has been disconnected!!\n",
      "button (35) has been reconnected!!\n",
      " (2606) has been disconnected!!\n",
      "button (2557) has been disconnected!!\n",
      "button (35) has been reconnected!!\n",
      "button (2557) has been disconnected!!\n",
      "button (35) has been reconnected!!\n",
      "button (2557) has been disconnected!!\n",
      "motor (2557) has been disconnected!!\n",
      "motor (2606) has been reconnected!!\n",
      "button (35) has been reconnected!!\n",
      "button (35) has been reconnected!!\n",
      "button (2557) has been disconnected!!\n",
      "button (35) has been reconnected!!\n",
      "button (35) has been reconnected!!\n",
      "button (2557) has been disconnected!!\n",
      "button (35) has been reconnected!!\n",
      "button (2606) has been disconnected!!\n",
      "button (2557) has been disconnected!!\n",
      "button (35) has been reconnected!!\n",
      "button (2606) has been disconnected!!\n",
      " (2606) has been disconnected!!\n",
      "button (35) has been reconnected!!\n",
      " (2606) has been disconnected!!\n",
      "button (35) has been reconnected!!\n"
     ]
    }
   ],
   "source": [
    "while cam.is_opened():\n",
    "    frame = cam.read()\n",
    "    \n",
    "    # frame 자료 이미지 변환\n",
    "    image = Image.fromarray(frame)\n",
    "\n",
    "    # 1차 이미지 사이즈 \n",
    "    size = (224, 224)\n",
    "    image = ImageOps.fit(image, size, Image.ANTIALIAS)\n",
    "\n",
    "    # Numpy array 데이터 형태로 변환\n",
    "    image_array = np.asarray(image)\n",
    "\n",
    "    # 이미지 정규화 작업\n",
    "    normalized_image_array = (image_array.astype(np.float32) / 127.0) - 1\n",
    "    \n",
    "    # 영상을 라지베리파이가 처리가능하게 32 x 24 크기로 축소하여 리사이징\n",
    "    resized = cv2.resize(normalized_image_array, dim, interpolation = cv2.INTER_AREA)\n",
    "    # Load the image into the array\n",
    "    data[0] = resized\n",
    "\n",
    "    print('resized', data[0].shape ,end='\\r')\n",
    "\n",
    "    # 모델에 영상데이터를 넣어 예측하는 부분. \n",
    "    pred = model.predict_classes(data)\n",
    "\n",
    "    pred_class = classes[pred[0]]\n",
    "\n",
    "    print(\"Predicted Class : \", pred_class , end='\\r')\n",
    "    cam.show(frame)\n",
    "    \n",
    "\n",
    "    if pred_class == 'traffic_green':\n",
    "        mot.speed = -40, 40\n",
    "    elif pred_class == 'traffic_red':\n",
    "        mot.speed = 0, 0\n",
    "\n",
    "    if btn.clicked:\n",
    "        \n",
    "        \n",
    "    \n",
    "        mot.speed = 0,0\n",
    "        # self.camera.release()\n",
    "        cv2.destroyAllWindows()\n",
    "        break\n",
    "\n",
    "    if cv2.waitKey(1) & 0xFF == ord('q'):\n",
    "        mot.speed = 0,0\n",
    "        cam.release()\n",
    "        cv2.destroyAllWindows()\n",
    "        break\n",
    "        \n",
    "    "
   ]
  }
 ],
 "metadata": {
  "kernelspec": {
   "display_name": "Python 3",
   "language": "python",
   "name": "python3"
  },
  "language_info": {
   "codemirror_mode": {
    "name": "ipython",
    "version": 3
   },
   "file_extension": ".py",
   "mimetype": "text/x-python",
   "name": "python",
   "nbconvert_exporter": "python",
   "pygments_lexer": "ipython3",
   "version": "3.7.6"
  }
 },
 "nbformat": 4,
 "nbformat_minor": 4
}
